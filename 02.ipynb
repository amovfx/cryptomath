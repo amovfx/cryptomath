{
 "cells": [
  {
   "cell_type": "markdown",
   "metadata": {},
   "source": [
    "# Mathematics of Public Key Cryptography\n",
    "## Part 1 Background\n",
    "### Chapter 02 Basic Algorithmic Number Theory"
   ]
  },
  {
   "cell_type": "markdown",
   "metadata": {},
   "source": [
    "Other resources to deep dive on these topics.\n",
    "[Crandal Pomerance, Prime Numbers, A computational Perspective](http://thales.doa.fmph.uniba.sk/macaj/skola/teoriapoli/primes.pdf)\n",
    "[Chapter 1, Introduction to Algorithms](https://sd.blackball.lv/library/Introduction_to_Algorithms_Third_Edition_(2009).pdf)\n",
    "[Graduate Course in Applied Cryptography, Dan Boneh and Victor Shoup](https://crypto.stanford.edu/~dabo/cryptobook/BonehShoup_0_5.pdf)\n",
    "[Brent Zimmermann, Modern Computer Arithmetic](https://maths-people.anu.edu.au/~brent/pd/mca-cup-0.5.9.pdf)\n",
    "[von zur Gathen and Gerhard, Modern Computer Algebra](https://assets.cambridge.org/97811070/39032/frontmatter/9781107039032_frontmatter.pdf)\n",
    "[Bach and Shallit, Algorithmic Number Theory](https://doc.lagout.org/science/0_Computer%20Science/2_Algorithms/Algorithmic%20Number%20Theory%20%28vol.%201_%20Efficient%20Algorithms%29%20%5BBach%20%26%20Shallit%201996-08-26%5D.pdf)\n"
   ]
  },
  {
   "cell_type": "markdown",
   "metadata": {},
   "source": [
    "These are some fundamental algorithms in computational number theory such as Euclid’s algorithm, computing Legendre symbols, and taking square roots modulo p. Finally, we discuss polynomial arithmetic, constructing finite fields, and some computational problems in finite fields."
   ]
  },
  {
   "cell_type": "markdown",
   "metadata": {},
   "source": [
    "### Algorithms and Complexity"
   ]
  },
  {
   "cell_type": "markdown",
   "metadata": {},
   "source": [
    "General references for this section are Chapter 1 of Cormen, Leiserson, Rivest and Stein [146],\n",
    "Davis and Weyuker [167], Hopcroft and Ullman [293], Section 3.1 of Shoup [556], Sipser\n",
    "[568] and Talbot and Welsh [600]."
   ]
  },
  {
   "cell_type": "markdown",
   "metadata": {},
   "source": [
    "Let G be a group written in multiplicative notation, Given g, h ∈ G to find a, if it exists, such that h = g^a.\n",
    "G is an algebraic group over a finite field and the order of g is assumed to be known. __This is the discrete logarithm problem.__"
   ]
  },
  {
   "cell_type": "code",
   "execution_count": 1,
   "metadata": {},
   "outputs": [],
   "source": [
    "import math\n",
    "x= 10\n",
    "a=5\n",
    "b = pow(a, x) \n",
    "assert(x == math.log(b,a))"
   ]
  },
  {
   "cell_type": "markdown",
   "metadata": {},
   "source": [
    "## Exercise 2.1.4.\n",
    "\n",
    "f(n) = O(log(n)^a)\n",
    "g(n) = 0(log(n)^b)\n",
    "\n",
    "then (f+g)(n) == f(n) + g(n) == O(log(n)^max(a,b))\n",
    "and (fg)(n) == f(n)g(n) == O(log(n)^a+b)\n",
    "Show that O(n^c) = O(2^clog(n))\n",
    "\n",
    "if f(x) == g(y) then ln(f(x)) == ln(g(x))\n",
    "\n",
    "log rule: log(x^b) == b*log(x)\n",
    "\n",
    "show that\n",
    "O(n^c) == O(2^(clog(n)))\n",
    "\n",
    "1. Natural log of both sides\n",
    "ln(n^c) == ln(2^(clog(n)))\n",
    "\n",
    "2. Apply log rule\n",
    "c*ln(n) == c*log(n)*ln(2)\n",
    "\n",
    "3. subtract c*log(n)*ln(2) from both sides\n",
    "c*ln(n) - c*log(n)*ln(2) == c*log(n)*ln(2) - c*log(n)*ln(2)\n",
    "\n",
    "4.\n",
    "\n",
    "c*ln(n) - c*log(n)*ln(2) == 0\n",
    "\n",
    "5.Zero Factor priciple.\n",
    "c* (ln(n) - log(n)*ln(2)) == 0\n"
   ]
  },
  {
   "cell_type": "markdown",
   "metadata": {},
   "source": [
    "## Exercise 2.1.6\n",
    "\n",
    "n*log(n)^m * log(n*log(n)^m)^m\n",
    "n*log(n)^m = n*log(n)^m * log(n*log(n)^m)^m\n",
    "\n",
    "n*log(n)^m / n*log(n)^m = log(n*log(n)^m)^m\n",
    "\n",
    "1 = log(n*log(n)^m)^m\n"
   ]
  },
  {
   "cell_type": "markdown",
   "metadata": {},
   "source": [
    "Exercise 2.1.8.\n",
    "\n",
    "Little o is if f(n)/g(n) = 0 as n approaches infinitity.\n",
    "\n",
    "Soft O notation is the upper bound of a function complexity. f(n) = O(g(n)log(g(n))^m)\n",
    "\n",
    "Big Omega is the lower bound of a function complexity. g(n) = O(f(n))\n",
    "\n",
    "Theta notation is the tight bound of a function complexity. f(n) = Theta(g(n)) if f(n) = O(g(n)) and g(n) = O(f(n))\n"
   ]
  },
  {
   "cell_type": "code",
   "execution_count": 3,
   "metadata": {},
   "outputs": [
    {
     "name": "stdout",
     "output_type": "stream",
     "text": [
      "[1, 1, 1, 1, 1, 1, 1, 1, 1, 1, 1, 1, 1, 1, 1, 1]\n",
      "[1, 1, 1, 1, 1, 1, 1, 1, 1, 1, 1, 1, 1, 1, 1, 1]\n"
     ]
    }
   ],
   "source": [
    "\n",
    "\n",
    "#works to generate prime fields\n",
    "def generate_permutation(f):\n",
    "    return list(filter(lambda x: pow(base=x,exp=f-1,mod=f) , list(range(1,f))))\n",
    "\n",
    "#doesnot work\n",
    "def field(f):\n",
    "    numbers = list(range(1,f))\n",
    "    return list(map(lambda x: pow(base=x, exp=(f-1), mod=f),numbers))\n",
    "\n",
    "field(17)\n",
    "numbers = list(range(1,17))\n",
    "print([pow(i,16,17) for i in list(range(1,17))])\n",
    "print(list(map(lambda i: pow(i,16,17), list(range(1,17)))))"
   ]
  },
  {
   "cell_type": "markdown",
   "metadata": {},
   "source": [
    " [Socratica on Groups](https://www.youtube.com/watch?v=IP7nW_hKB7I&list=PLi01XoE8jYoi3SgnnGorR_XOW3IcK-TP6)"
   ]
  },
  {
   "cell_type": "code",
   "execution_count": 10,
   "metadata": {},
   "outputs": [],
   "source": [
    "\n"
   ]
  },
  {
   "cell_type": "code",
   "execution_count": 11,
   "metadata": {},
   "outputs": [],
   "source": []
  }
 ],
 "metadata": {
  "kernelspec": {
   "display_name": "Python 3.10.6 ('cryptomath')",
   "language": "python",
   "name": "python3"
  },
  "language_info": {
   "codemirror_mode": {
    "name": "ipython",
    "version": 3
   },
   "file_extension": ".py",
   "mimetype": "text/x-python",
   "name": "python",
   "nbconvert_exporter": "python",
   "pygments_lexer": "ipython3",
   "version": "3.10.6"
  },
  "orig_nbformat": 4,
  "vscode": {
   "interpreter": {
    "hash": "d7961a78c98efed47a88f5e52585e82e1d811524f3f1ceb05eeec366fad7cb72"
   }
  }
 },
 "nbformat": 4,
 "nbformat_minor": 2
}
